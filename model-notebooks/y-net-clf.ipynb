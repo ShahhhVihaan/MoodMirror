{
 "cells": [
  {
   "cell_type": "code",
   "execution_count": 1,
   "metadata": {},
   "outputs": [],
   "source": [
    "import numpy as np\n",
    "import os\n",
    "import tensorflow as tf\n",
    "\n",
    "np.random.seed(42)"
   ]
  },
  {
   "cell_type": "code",
   "execution_count": null,
   "metadata": {},
   "outputs": [],
   "source": [
    "train_dir = os.path.join('train')\n",
    "test_dir = os.path.join('test')\n",
    "val_dir = os.path.join('val')\n",
    "comb_dir = os.path.join('combined')"
   ]
  },
  {
   "cell_type": "code",
   "execution_count": null,
   "metadata": {},
   "outputs": [],
   "source": [
    "from keras.utils import image_dataset_from_directory\n",
    "train_dataset = image_dataset_from_directory(\n",
    "    train_dir,\n",
    "    image_size=(48, 48),\n",
    "    label_mode=\"categorical\",\n",
    "    color_mode='grayscale',\n",
    "    batch_size=32)\n",
    "validation_dataset = image_dataset_from_directory(\n",
    "    val_dir,\n",
    "    image_size=(48, 48),\n",
    "    label_mode=\"categorical\",\n",
    "    color_mode='grayscale',\n",
    "    batch_size=32)\n",
    "test_dataset = image_dataset_from_directory(\n",
    "    test_dir,\n",
    "    image_size=(48, 48),\n",
    "    label_mode=\"categorical\",\n",
    "    color_mode='grayscale',\n",
    "    batch_size=32)\n",
    "combined_dataset = image_dataset_from_directory(\n",
    "    comb_dir,\n",
    "    image_size=(48, 48),\n",
    "    label_mode=\"categorical\",\n",
    "    color_mode='grayscale',\n",
    "    batch_size=32) "
   ]
  },
  {
   "cell_type": "code",
   "execution_count": null,
   "metadata": {},
   "outputs": [],
   "source": [
    "from keras import layers\n",
    "from keras import models\n",
    "\n",
    "def build_model():\n",
    "\n",
    "    # we build a Y-network model with two inputs and one output\n",
    "\n",
    "    input_shape=(48, 48, 1)\n",
    "\n",
    "    # left branch\n",
    "    left_inputs = layers.Input(shape=input_shape)\n",
    "    x = layers.Conv2D(32, (3, 3), padding=\"same\", activation='relu')(left_inputs)\n",
    "    x = layers.BatchNormalization()(x)\n",
    "    x = layers.Conv2D(32, (3, 3), padding=\"same\", activation='relu')(x)\n",
    "    x = layers.BatchNormalization()(x)\n",
    "    x = layers.MaxPooling2D((2, 2))(x)\n",
    "    x = layers.Dropout(0.25)(x)\n",
    "\n",
    "    # fill in code below to finsh the left branch\n",
    "    x = layers.Conv2D(64, (3, 3), padding=\"same\", activation='relu')(x)\n",
    "    x = layers.BatchNormalization()(x)\n",
    "    x = layers.Conv2D(64, (3, 3), padding=\"same\", activation='relu')(x)\n",
    "    x = layers.BatchNormalization()(x)\n",
    "    x = layers.MaxPooling2D((2, 2))(x)\n",
    "    x = layers.Dropout(0.25)(x)\n",
    "\n",
    "\n",
    "    # right branch\n",
    "    right_inputs = layers.Input(shape=input_shape)\n",
    "    y = layers.Conv2D(32, (3, 3), padding=\"same\", activation='relu')(right_inputs)\n",
    "    y = layers.BatchNormalization()(y)\n",
    "    y = layers.Conv2D(32, (3, 3), padding=\"same\", activation='relu')(y)\n",
    "    y = layers.BatchNormalization()(y)\n",
    "    y = layers.MaxPooling2D((2, 2))(y)\n",
    "    y = layers.Dropout(0.25)(y)\n",
    "\n",
    "    # fill in code below to finish the right branch\n",
    "    y = layers.Conv2D(64, (3, 3), padding=\"same\", activation='relu')(y)\n",
    "    y = layers.BatchNormalization()(y)\n",
    "    y = layers.Conv2D(64, (3, 3), padding=\"same\", activation='relu')(y)\n",
    "    y = layers.BatchNormalization()(y)\n",
    "    y = layers.MaxPooling2D((2, 2))(y)\n",
    "    y = layers.Dropout(0.25)(y)\n",
    "\n",
    "\n",
    "    # concatenate the left and the right branches\n",
    "    x = layers.concatenate([x, y])\n",
    "    x = layers.Flatten()(x)\n",
    "\n",
    "    x = layers.Dense(512, activation='relu')(x)\n",
    "    x = layers.BatchNormalization()(x)\n",
    "\n",
    "    # fill in code below\n",
    "    x = layers.Dropout(0.5)(x)\n",
    "\n",
    "    # outputs\n",
    "    outputs = layers.Dense(7, activation='softmax')(x)\n",
    "    model = models.Model([left_inputs, right_inputs], outputs=outputs)\n",
    "    return model\n",
    "model = build_model()\n",
    "model.summary()"
   ]
  },
  {
   "cell_type": "code",
   "execution_count": null,
   "metadata": {},
   "outputs": [],
   "source": [
    "model.compile(optimizer='nadam',\n",
    "              loss='categorical_crossentropy',\n",
    "              metrics=['accuracy'])\n",
    "history = model.fit(train_dataset, epochs=40, batch_size=32, validation_data=validation_dataset)"
   ]
  },
  {
   "cell_type": "code",
   "execution_count": null,
   "metadata": {},
   "outputs": [],
   "source": [
    "history.history.keys()"
   ]
  },
  {
   "cell_type": "markdown",
   "metadata": {},
   "source": [
    "Make a directory of the combined data to train the model on"
   ]
  },
  {
   "cell_type": "code",
   "execution_count": null,
   "metadata": {},
   "outputs": [],
   "source": [
    "model = build_model()\n",
    "model.compile(optimizer='nadam',\n",
    "              loss='categorical_crossentropy',\n",
    "              metrics=['accuracy'])\n",
    "history = model.fit(combined_dataset, epochs=40, batch_size=32)"
   ]
  },
  {
   "cell_type": "code",
   "execution_count": null,
   "metadata": {},
   "outputs": [],
   "source": [
    "acc = model.evaluate(test_dataset)\n",
    "acc"
   ]
  }
 ],
 "metadata": {
  "kernelspec": {
   "display_name": "Python 3",
   "language": "python",
   "name": "python3"
  },
  "language_info": {
   "codemirror_mode": {
    "name": "ipython",
    "version": 3
   },
   "file_extension": ".py",
   "mimetype": "text/x-python",
   "name": "python",
   "nbconvert_exporter": "python",
   "pygments_lexer": "ipython3",
   "version": "3.10.11"
  }
 },
 "nbformat": 4,
 "nbformat_minor": 2
}
