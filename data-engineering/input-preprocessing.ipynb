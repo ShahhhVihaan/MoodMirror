{
 "cells": [
  {
   "cell_type": "code",
   "execution_count": 1,
   "metadata": {},
   "outputs": [],
   "source": [
    "import cv2\n",
    "import os"
   ]
  },
  {
   "cell_type": "code",
   "execution_count": 2,
   "metadata": {},
   "outputs": [],
   "source": [
    "# Load the cascade\n",
    "face_cascade = cv2.CascadeClassifier('haarcascade_frontalface_alt2.xml')"
   ]
  },
  {
   "cell_type": "code",
   "execution_count": 17,
   "metadata": {},
   "outputs": [],
   "source": [
    "# Draw rectangle around the faces and crop the faces\n",
    "current_directory = os.getcwd()\n",
    "input_filename = 'input_image.jpg'\n",
    "output_filename = 'output_image.jpg'\n",
    "\n",
    "img = cv2.imread(os.path.join(current_directory, input_filename))\n",
    "gray = cv2.cvtColor(img, cv2.COLOR_BGR2GRAY)\n",
    "faces = face_cascade.detectMultiScale(gray,\n",
    "            scaleFactor=1.1,\n",
    "            minNeighbors=5,\n",
    "            minSize=(15, 15),\n",
    "            flags = cv2.CASCADE_SCALE_IMAGE)\n",
    "for (x, y, w, h) in faces:\n",
    "    max_dim = max(w, h)\n",
    "    faces = img[y:y + max_dim, x:x + max_dim]\n",
    "    faces = cv2.cvtColor(faces, cv2.COLOR_BGR2GRAY)\n",
    "    faces = cv2.resize(faces, (48, 48), interpolation=cv2.INTER_AREA)\n",
    "    cv2.imwrite(os.path.join(current_directory, output_filename), faces)\n",
    "    break"
   ]
  }
 ],
 "metadata": {
  "kernelspec": {
   "display_name": "Python 3",
   "language": "python",
   "name": "python3"
  },
  "language_info": {
   "codemirror_mode": {
    "name": "ipython",
    "version": 3
   },
   "file_extension": ".py",
   "mimetype": "text/x-python",
   "name": "python",
   "nbconvert_exporter": "python",
   "pygments_lexer": "ipython3",
   "version": "3.10.11"
  }
 },
 "nbformat": 4,
 "nbformat_minor": 2
}
