{
 "cells": [
  {
   "cell_type": "code",
   "execution_count": 1,
   "metadata": {},
   "outputs": [],
   "source": [
    "import os\n",
    "import numpy as np\n",
    "import cv2"
   ]
  },
  {
   "cell_type": "code",
   "execution_count": 21,
   "metadata": {},
   "outputs": [],
   "source": [
    "path = \"surprise\"\n",
    "files = os.listdir(path)"
   ]
  },
  {
   "cell_type": "code",
   "execution_count": 22,
   "metadata": {},
   "outputs": [],
   "source": [
    "indices = np.arange(len(files))\n",
    "train_part = np.random.choice(indices, size=int(len(indices)*0.8), replace=False)\n",
    "val_part = np.setdiff1d(indices, train_part)"
   ]
  },
  {
   "cell_type": "code",
   "execution_count": 23,
   "metadata": {},
   "outputs": [],
   "source": [
    "# Draw rectangle around the faces and crop the faces\n",
    "for i in train_part:\n",
    "    file = files[i]\n",
    "    img = cv2.imread(os.path.join(path, file))\n",
    "    if(img is None): continue\n",
    "    cv2.imwrite(os.path.join(path + '-train', file), img)\n",
    "\n",
    "for i in val_part:\n",
    "    file = files[i]\n",
    "    img = cv2.imread(os.path.join(path, file))\n",
    "    if(img is None): continue\n",
    "    cv2.imwrite(os.path.join(path + '-val', file), img)\n"
   ]
  },
  {
   "cell_type": "code",
   "execution_count": null,
   "metadata": {},
   "outputs": [],
   "source": []
  }
 ],
 "metadata": {
  "kernelspec": {
   "display_name": "Python 3",
   "language": "python",
   "name": "python3"
  },
  "language_info": {
   "codemirror_mode": {
    "name": "ipython",
    "version": 3
   },
   "file_extension": ".py",
   "mimetype": "text/x-python",
   "name": "python",
   "nbconvert_exporter": "python",
   "pygments_lexer": "ipython3",
   "version": "3.10.11"
  }
 },
 "nbformat": 4,
 "nbformat_minor": 2
}
