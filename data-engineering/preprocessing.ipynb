{
  "cells": [
    {
      "cell_type": "code",
      "execution_count": 17,
      "metadata": {
        "id": "Nqqc_NLhVLRw"
      },
      "outputs": [],
      "source": [
        "import cv2\n",
        "import os"
      ]
    },
    {
      "cell_type": "code",
      "execution_count": 18,
      "metadata": {
        "id": "yaKsdy31VLRx"
      },
      "outputs": [],
      "source": [
        "# Load the cascade\n",
        "face_cascade = cv2.CascadeClassifier('haarcascade_frontalface_alt2.xml')"
      ]
    },
    {
      "cell_type": "code",
      "execution_count": 20,
      "metadata": {
        "id": "0suGvzB7VLRy"
      },
      "outputs": [],
      "source": [
        "# Draw rectangle around the faces and crop the faces\n",
        "path = \"disgusted-faces\"\n",
        "files = os.listdir(path)\n",
        "\n",
        "count = 405\n",
        "\n",
        "for file in files:\n",
        "    img = cv2.imread(os.path.join(path, file))\n",
        "    if(img is None): continue\n",
        "    gray = cv2.cvtColor(img, cv2.COLOR_BGR2GRAY)\n",
        "    # Detect faces\n",
        "    faces = face_cascade.detectMultiScale(gray,\n",
        "            scaleFactor=1.1,\n",
        "            minNeighbors=5,\n",
        "            minSize=(15, 15),\n",
        "            flags = cv2.CASCADE_SCALE_IMAGE)\n",
        "    for (x, y, w, h) in faces:\n",
        "        max_dim = max(w, h)\n",
        "        faces = img[y:y + max_dim, x:x + max_dim]\n",
        "        faces = cv2.cvtColor(faces, cv2.COLOR_BGR2GRAY)\n",
        "        faces = cv2.resize(faces, (48, 48), interpolation=cv2.INTER_AREA)\n",
        "        cv2.imwrite(os.path.join('disgusted','face' + str(count) + '.jpg'), faces)\n",
        "        count += 1"
      ]
    },
    {
      "cell_type": "code",
      "execution_count": null,
      "metadata": {},
      "outputs": [],
      "source": []
    }
  ],
  "metadata": {
    "colab": {
      "provenance": []
    },
    "kernelspec": {
      "display_name": "Python 3",
      "name": "python3"
    },
    "language_info": {
      "codemirror_mode": {
        "name": "ipython",
        "version": 3
      },
      "file_extension": ".py",
      "mimetype": "text/x-python",
      "name": "python",
      "nbconvert_exporter": "python",
      "pygments_lexer": "ipython3",
      "version": "3.10.11"
    }
  },
  "nbformat": 4,
  "nbformat_minor": 0
}
