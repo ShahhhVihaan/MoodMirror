{
  "cells": [
    {
      "cell_type": "markdown",
      "metadata": {
        "id": "view-in-github",
        "colab_type": "text"
      },
      "source": [
        "<a href=\"https://colab.research.google.com/github/ShahhhVihaan/MoodMirror/blob/main/data-engineering/train_val_test_partition.ipynb\" target=\"_parent\"><img src=\"https://colab.research.google.com/assets/colab-badge.svg\" alt=\"Open In Colab\"/></a>"
      ]
    },
    {
      "cell_type": "code",
      "execution_count": 2,
      "metadata": {
        "id": "G7lbCRzFkXry"
      },
      "outputs": [],
      "source": [
        "import os\n",
        "import numpy as np\n",
        "import cv2"
      ]
    },
    {
      "cell_type": "code",
      "source": [
        "from google.colab import drive\n",
        "drive.mount('/content/drive')"
      ],
      "metadata": {
        "colab": {
          "base_uri": "https://localhost:8080/"
        },
        "id": "sHdOIxYfovio",
        "outputId": "fcb778f3-d397-42aa-a710-822060bbf7c0"
      },
      "execution_count": 3,
      "outputs": [
        {
          "output_type": "stream",
          "name": "stdout",
          "text": [
            "Mounted at /content/drive\n"
          ]
        }
      ]
    },
    {
      "cell_type": "code",
      "source": [
        "# getting zip of augmented data from drive\n",
        "!unzip /content/drive/My\\ Drive/augmented-data.zip"
      ],
      "metadata": {
        "colab": {
          "base_uri": "https://localhost:8080/"
        },
        "id": "40FHTujIpICe",
        "outputId": "ef1811fd-8a81-4c5a-c240-38ab4ba0fc8c"
      },
      "execution_count": 3,
      "outputs": [
        {
          "output_type": "stream",
          "name": "stdout",
          "text": [
            "Archive:  /content/drive/My Drive/augmented-data.zip\n",
            " extracting: angry.zip               \n",
            " extracting: disgust.zip             \n",
            " extracting: fear.zip                \n",
            " extracting: happy.zip               \n",
            " extracting: neutral.zip             \n",
            " extracting: sad.zip                 \n",
            " extracting: surprise.zip            \n"
          ]
        }
      ]
    },
    {
      "cell_type": "code",
      "source": [
        "# one path for each emotion\n",
        "paths = [\"angry\", \"disgust\", \"fear\", \"happy\", \"neutral\", \"sad\", \"surprise\"]\n",
        "\n",
        "for path in paths:\n",
        "  !unzip {path}.zip"
      ],
      "metadata": {
        "id": "lEFvwcherMYP"
      },
      "execution_count": null,
      "outputs": []
    },
    {
      "cell_type": "code",
      "source": [
        "!rmdir train\n",
        "!rmdir val\n",
        "!rmdir test"
      ],
      "metadata": {
        "id": "e_2IqAsGuZYJ"
      },
      "execution_count": null,
      "outputs": []
    },
    {
      "cell_type": "code",
      "source": [
        "# create a train, val, and test folder\n",
        "# each of these has subfolders for each of the 7 emotions\n",
        "# we will zip train, val, test\n",
        "# zip whole directory and send to drive\n",
        "sets = [\"train\", \"val\", \"test\"]\n",
        "for i in sets:\n",
        "    !mkdir {i}\n",
        "    for path in paths:\n",
        "        !mkdir {i}/{path}"
      ],
      "metadata": {
        "id": "KEHq52B8uT4c"
      },
      "execution_count": 6,
      "outputs": []
    },
    {
      "cell_type": "code",
      "execution_count": 7,
      "metadata": {
        "id": "WCoE5ADSkXrz"
      },
      "outputs": [],
      "source": [
        "for path in paths:\n",
        "    # get all files in the current path with their corresponding indices\n",
        "    files = os.listdir(path)\n",
        "    indices = np.arange(len(files))\n",
        "\n",
        "    # train set has 70%, randomly chosen\n",
        "    train_set = np.random.choice(indices, size=int(len(indices)*0.7), replace=False)\n",
        "\n",
        "    # remaining items\n",
        "    train_removed = np.setdiff1d(indices, train_set)\n",
        "\n",
        "    # val set is 20% of the original data (2/3 of remaining 30%), test_set is diff\n",
        "    val_set = np.random.choice(train_removed, size=int(len(train_removed)*(2/3)), replace=False)\n",
        "    test_set = np.setdiff1d(train_removed, val_set)\n",
        "\n",
        "    len_sets = len(train_set) + len(val_set) + len(test_set)\n",
        "    assert len_sets > len(files) - 2 and len_sets < len(files) + 2\n",
        "\n",
        "    for i in train_set:\n",
        "        file = files[i]\n",
        "        img = cv2.imread(os.path.join(path, file))\n",
        "        if(img is None): continue\n",
        "        cv2.imwrite(os.path.join(\"train\", path, file), img)\n",
        "\n",
        "    for i in val_set:\n",
        "        file = files[i]\n",
        "        img = cv2.imread(os.path.join(path, file))\n",
        "        if(img is None): continue\n",
        "        cv2.imwrite(os.path.join(\"val\", path, file), img)\n",
        "\n",
        "    for i in test_set:\n",
        "        file = files[i]\n",
        "        img = cv2.imread(os.path.join(path, file))\n",
        "        if(img is None): continue\n",
        "        cv2.imwrite(os.path.join(\"test\", path, file), img)"
      ]
    },
    {
      "cell_type": "code",
      "source": [
        "for i in sets:\n",
        "    !zip -r {i}.zip {i}"
      ],
      "metadata": {
        "id": "G7kNhQsWw9Eb"
      },
      "execution_count": null,
      "outputs": []
    },
    {
      "cell_type": "code",
      "source": [
        "!zip -r train_val_test.zip test.zip train.zip val.zip"
      ],
      "metadata": {
        "colab": {
          "base_uri": "https://localhost:8080/"
        },
        "id": "mQA8rDcyxn34",
        "outputId": "54c40235-badc-434c-fcc6-2dc279d4e5f3"
      },
      "execution_count": 10,
      "outputs": [
        {
          "output_type": "stream",
          "name": "stdout",
          "text": [
            "  adding: test.zip (stored 0%)\n",
            "  adding: train.zip (stored 0%)\n",
            "  adding: val.zip (stored 0%)\n"
          ]
        }
      ]
    },
    {
      "cell_type": "code",
      "source": [
        "!cp train_val_test.zip /content/drive/My\\ Drive/train_val_test.zip"
      ],
      "metadata": {
        "id": "s2nmyzYhyEUO"
      },
      "execution_count": 11,
      "outputs": []
    },
    {
      "cell_type": "code",
      "source": [
        "# confirming data information\n",
        "!unzip /content/drive/My\\ Drive/train_val_test.zip"
      ],
      "metadata": {
        "colab": {
          "base_uri": "https://localhost:8080/"
        },
        "id": "d93ognsXz8ck",
        "outputId": "6e1ce064-ac36-4f08-9533-6fd3c8d83545"
      },
      "execution_count": 4,
      "outputs": [
        {
          "output_type": "stream",
          "name": "stdout",
          "text": [
            "Archive:  /content/drive/My Drive/train_val_test.zip\n",
            " extracting: test.zip                \n",
            " extracting: train.zip               \n",
            " extracting: val.zip                 \n"
          ]
        }
      ]
    },
    {
      "cell_type": "code",
      "source": [
        "paths = [\"angry\", \"disgust\", \"fear\", \"happy\", \"neutral\", \"sad\", \"surprise\"]"
      ],
      "metadata": {
        "id": "7ldo7rDn03Qs"
      },
      "execution_count": 5,
      "outputs": []
    },
    {
      "cell_type": "code",
      "source": [
        "!unzip test.zip\n",
        "!unzip train.zip\n",
        "!unzip val.zip"
      ],
      "metadata": {
        "id": "7wSr546G0-nw"
      },
      "execution_count": null,
      "outputs": []
    },
    {
      "cell_type": "code",
      "source": [
        "for path in paths:\n",
        "    print(f\"Num train for {path}:\", len(os.listdir(os.path.join(\"train\", path))))"
      ],
      "metadata": {
        "colab": {
          "base_uri": "https://localhost:8080/"
        },
        "id": "3fs1I7_x1G-W",
        "outputId": "60472bb8-2273-499b-f305-9496c7a906bc"
      },
      "execution_count": 10,
      "outputs": [
        {
          "output_type": "stream",
          "name": "stdout",
          "text": [
            "Num train for angry: 6292\n",
            "Num train for disgust: 6292\n",
            "Num train for fear: 6292\n",
            "Num train for happy: 6292\n",
            "Num train for neutral: 6292\n",
            "Num train for sad: 6292\n",
            "Num train for surprise: 6292\n"
          ]
        }
      ]
    },
    {
      "cell_type": "code",
      "source": [
        "for path in paths:\n",
        "    print(f\"Num train for {path}:\", len(os.listdir(os.path.join(\"val\", path))))"
      ],
      "metadata": {
        "colab": {
          "base_uri": "https://localhost:8080/"
        },
        "id": "84DssgAF1jW_",
        "outputId": "7cfee43f-3f10-4263-9288-90bc71034037"
      },
      "execution_count": 11,
      "outputs": [
        {
          "output_type": "stream",
          "name": "stdout",
          "text": [
            "Num train for angry: 1798\n",
            "Num train for disgust: 1798\n",
            "Num train for fear: 1798\n",
            "Num train for happy: 1798\n",
            "Num train for neutral: 1798\n",
            "Num train for sad: 1798\n",
            "Num train for surprise: 1798\n"
          ]
        }
      ]
    },
    {
      "cell_type": "code",
      "source": [
        "for path in paths:\n",
        "    print(f\"Num train for {path}:\", len(os.listdir(os.path.join(\"test`\", path))))"
      ],
      "metadata": {
        "colab": {
          "base_uri": "https://localhost:8080/"
        },
        "id": "7b6bp1m01mC1",
        "outputId": "62a02219-7c57-402f-8fe6-996a9d0d74c8"
      },
      "execution_count": 12,
      "outputs": [
        {
          "output_type": "stream",
          "name": "stdout",
          "text": [
            "Num train for angry: 899\n",
            "Num train for disgust: 899\n",
            "Num train for fear: 899\n",
            "Num train for happy: 899\n",
            "Num train for neutral: 899\n",
            "Num train for sad: 899\n",
            "Num train for surprise: 899\n"
          ]
        }
      ]
    }
  ],
  "metadata": {
    "kernelspec": {
      "display_name": "Python 3",
      "language": "python",
      "name": "python3"
    },
    "language_info": {
      "codemirror_mode": {
        "name": "ipython",
        "version": 3
      },
      "file_extension": ".py",
      "mimetype": "text/x-python",
      "name": "python",
      "nbconvert_exporter": "python",
      "pygments_lexer": "ipython3",
      "version": "3.10.11"
    },
    "colab": {
      "provenance": [],
      "include_colab_link": true
    }
  },
  "nbformat": 4,
  "nbformat_minor": 0
}