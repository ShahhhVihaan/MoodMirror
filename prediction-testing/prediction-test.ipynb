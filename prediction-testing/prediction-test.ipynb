{
 "cells": [
  {
   "cell_type": "code",
   "execution_count": 98,
   "metadata": {},
   "outputs": [],
   "source": [
    "import cv2\n",
    "\n",
    "# Load the image\n",
    "img = cv2.imread('scared_tyler.jpeg')\n",
    "\n",
    "# Convert the image to grayscale\n",
    "gray = cv2.cvtColor(img, cv2.COLOR_BGR2GRAY)\n",
    "\n",
    "# Load the Haar cascade classifier\n",
    "face_cascade = cv2.CascadeClassifier('haarcascade_frontalface_alt2.xml')\n",
    "\n",
    "# Detect the face in the image\n",
    "faces = face_cascade.detectMultiScale(gray, scaleFactor=1.1,\n",
    "            minNeighbors=5,\n",
    "            minSize=(15, 15),\n",
    "            flags = cv2.CASCADE_SCALE_IMAGE)\n",
    "\n",
    "# Draw a bounding box around the detected face\n",
    "count = 0\n",
    "for (x, y, w, h) in faces:\n",
    "    # Check if the detected face is at the top of the image\n",
    "    dim = max(w, h)\n",
    "    img = img[y:y+dim, x:x+dim]\n",
    "    if(img.size == 0): continue\n",
    "    img = cv2.resize(img, (48, 48), interpolation=cv2.INTER_AREA)\n",
    "    img = cv2.cvtColor(img, cv2.COLOR_BGR2GRAY)\n",
    "    cv2.imwrite('image.jpg', img)\n",
    "    count += 1\n",
    "    "
   ]
  },
  {
   "cell_type": "code",
   "execution_count": 99,
   "metadata": {},
   "outputs": [],
   "source": [
    "emotions = {\n",
    "    0:'Anger', # correct\n",
    "    1:'Fear', # correct\n",
    "    2:'Happiness', # correct\n",
    "    3:'Neutral', # correct\n",
    "    4: 'Sadness', # correct\n",
    "    5:'Surprise', # correct\n",
    "}"
   ]
  },
  {
   "cell_type": "code",
   "execution_count": 100,
   "metadata": {},
   "outputs": [],
   "source": [
    "from keras.models import load_model\n",
    "from keras.preprocessing import image\n",
    "import numpy as np\n",
    "\n",
    "# load the model we saved\n",
    "model = load_model('advanced_model.h5')\n",
    "\n",
    "# compile the model\n",
    "model.compile(loss='categorical_crossentropy',\n",
    "              optimizer='adam',\n",
    "              metrics=['accuracy'])\n",
    "\n",
    "# predicting images\n",
    "img = cv2.imread('image.jpg')\n",
    "img = cv2.resize(img, (48, 48))\n",
    "img = cv2.cvtColor(img, cv2.COLOR_BGR2GRAY)\n",
    "img = np.reshape(img, (1, 48, 48, 1))"
   ]
  },
  {
   "cell_type": "code",
   "execution_count": 101,
   "metadata": {},
   "outputs": [
    {
     "data": {
      "text/plain": [
       "(1, 48, 48, 1)"
      ]
     },
     "execution_count": 101,
     "metadata": {},
     "output_type": "execute_result"
    }
   ],
   "source": [
    "img.shape"
   ]
  },
  {
   "cell_type": "code",
   "execution_count": 102,
   "metadata": {},
   "outputs": [
    {
     "name": "stdout",
     "output_type": "stream",
     "text": [
      "1/1 [==============================] - 0s 180ms/step\n"
     ]
    }
   ],
   "source": [
    "pred = model.predict(img)[0]"
   ]
  },
  {
   "cell_type": "code",
   "execution_count": 103,
   "metadata": {},
   "outputs": [
    {
     "data": {
      "text/plain": [
       "array([0.05689945, 0.85118073, 0.00108381, 0.00268129, 0.07690826,\n",
       "       0.0112465 ], dtype=float32)"
      ]
     },
     "execution_count": 103,
     "metadata": {},
     "output_type": "execute_result"
    }
   ],
   "source": [
    "pred"
   ]
  },
  {
   "cell_type": "code",
   "execution_count": 104,
   "metadata": {},
   "outputs": [
    {
     "name": "stdout",
     "output_type": "stream",
     "text": [
      "Fear\n"
     ]
    }
   ],
   "source": [
    "max_i = 0\n",
    "max_val = pred[max_i]\n",
    "for i in range(len(pred)):\n",
    "    if(pred[i] > max_val):\n",
    "        max_i = i\n",
    "        max_val = pred[i]\n",
    "print(emotions[max_i])"
   ]
  },
  {
   "cell_type": "code",
   "execution_count": null,
   "metadata": {},
   "outputs": [],
   "source": []
  },
  {
   "cell_type": "code",
   "execution_count": null,
   "metadata": {},
   "outputs": [],
   "source": []
  }
 ],
 "metadata": {
  "kernelspec": {
   "display_name": "Python 3",
   "language": "python",
   "name": "python3"
  },
  "language_info": {
   "codemirror_mode": {
    "name": "ipython",
    "version": 3
   },
   "file_extension": ".py",
   "mimetype": "text/x-python",
   "name": "python",
   "nbconvert_exporter": "python",
   "pygments_lexer": "ipython3",
   "version": "3.10.11"
  }
 },
 "nbformat": 4,
 "nbformat_minor": 2
}
